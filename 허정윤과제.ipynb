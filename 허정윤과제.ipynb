{
 "cells": [
  {
   "attachments": {},
   "cell_type": "markdown",
   "metadata": {},
   "source": [
    "네이버 증시 인기 검색종목 10개 불러오기\n",
    "https://finance.naver.com/sise/\n",
    "\n",
    "\n",
    "\n",
    "멜론 차트 장르별로 불러오기\n",
    "request에 header 정보를 입력해야 함\n",
    "\n",
    "\n",
    "header = {'User-Agent':'Mozilla/5.0 (Macintosh; Intel Mac OS X 10_15_7) AppleWebKit/537.36 (KHTML, like Gecko) Chrome/108.0.0.0 Safari/537.36'}\n",
    "(melon_url = )\n",
    "raw = requests.get(melon_url, headers = header)\n",
    "장르를 입력하세요\n",
    "발라드\n",
    "댄스\n",
    "힙합,,,"
   ]
  },
  {
   "attachments": {},
   "cell_type": "markdown",
   "metadata": {},
   "source": [
    "# 네이버 인기 검색종목 10개"
   ]
  },
  {
   "cell_type": "code",
   "execution_count": 7,
   "metadata": {},
   "outputs": [
    {
     "name": "stdout",
     "output_type": "stream",
     "text": [
      "\n",
      "1.삼성전자60,400상승\n",
      "\n",
      "2.카카오58,100상승\n",
      "\n",
      "3.NAVER195,000상승\n",
      "\n",
      "4.SK하이닉스81,500상승\n",
      "\n",
      "5.CBI501상승\n",
      "\n",
      "6.위메이드32,600상승\n",
      "\n",
      "7.LG화학627,000하락\n",
      "\n",
      "8.LG전자91,000상승\n",
      "\n",
      "9.현대차162,500상승\n",
      "\n",
      "10.HMM22,050상승\n",
      "\n"
     ]
    }
   ],
   "source": [
    "from urllib.request import urlopen\n",
    "import requests\n",
    "from bs4 import BeautifulSoup as bs\n",
    "\n",
    "naver_url = 'https://finance.naver.com/sise/'\n",
    "naver_raw = requests.get(naver_url)\n",
    "naver_bs = bs(naver_raw.text, \"html.parser\")\n",
    "result = naver_bs.find(\"div\", {\"class\":\"rgt\"})\n",
    "for i in result.find(\"ul\", {\"id\":\"popularItemList\"}):\n",
    "    print(i.text.replace(\"\\n\", \"\"))"
   ]
  },
  {
   "cell_type": "code",
   "execution_count": 104,
   "metadata": {},
   "outputs": [
    {
     "name": "stdout",
     "output_type": "stream",
     "text": [
      "Requirement already satisfied: lxml in /Users/heojeongyun/Desktop/lab/webcrawling/lib/python3.9/site-packages (4.9.1)\n",
      "\u001b[33mWARNING: You are using pip version 21.2.4; however, version 22.3.1 is available.\n",
      "You should consider upgrading via the '/Users/heojeongyun/Desktop/lab/webcrawling/bin/python -m pip install --upgrade pip' command.\u001b[0m\n"
     ]
    }
   ],
   "source": [
    "!pip install lxml"
   ]
  },
  {
   "cell_type": "code",
   "execution_count": 31,
   "metadata": {},
   "outputs": [
    {
     "name": "stdout",
     "output_type": "stream",
     "text": [
      "랩/힙합 인기순위\n",
      "1위 /추억을만든사람과추억이되었을때 (Feat. 유은, 이현지너어는진짜) / 단옹 / 추억을만든사람과추억이되었을때\n",
      "2위 /Trap baby (Feat. ziika) / 코르리빗(kor leave it) / Trap Mentality\n",
      "3위 /고집쟁이 / 최주영 / LOGIN\n",
      "4위 /맘껏먹어 (Feat.Mac Kidd) / 베스킷제이 / 맘껏먹어\n",
      "5위 /CHEESE / Born Sinner (본 시너) / CHEESE\n",
      "6위 /병이야 병 (feat. Lowell Straight) / 김동현 / 병이야 병 (feat. Lowell Straight)\n",
      "7위 /미연시 / 강석진 / lilrever\n",
      "8위 /겨울냄새 / 세진 / 겨울냄새\n",
      "9위 /White Christmas / 제나파우더 (Jena Powder) / White Christmas\n",
      "10위 /꺼지기로 해 (Feat. MIUM, Wavy) / BoomPop / Dreamers\n",
      "11위 /Softie / Lofi zoo / Softie\n",
      "12위 /I'ma / Lil Oppa / I'ma\n",
      "13위 /가연성인간 / 배가본즈 (VagaVondz) / 가연성인간\n",
      "14위 /마리골드(How Can I Love You?) / VENI RAIN / FLOWER\n",
      "15위 /Dream Team (feat. Sigarddy Low, Kerrigan May) / 내이름은 문태식 / Dream Team\n",
      "16위 /Time Stop ! / HUMO / Time buyer 3\n",
      "17위 /DELAY (할 일을 미루고 싶을 때 듣는 노래라는 뜻) / LazyKid / DELAY (할 일을 미루고 싶을 때 듣는 노래라는 뜻)\n",
      "18위 /VIVALDI / 예령 (YELL) / VIVALDI\n",
      "19위 /OLT (One Last Time) / So Black / OLT (One Last Time)\n",
      "20위 /방해금지모드 / 언커먼 (Uncommon) / 방해금지모드\n",
      "21위 /너에게로(To You) / 김모노 (Kim MONO) / 너에게로(To You)\n",
      "22위 /별 나만의 밤 (Star, my own night) / 태영 / 花樣年華 - Thirsty!\n",
      "23위 /Ready for war (feat. Kobainsosa, Clouch) (Prod. By Hardywick) / 리온 (Lyon) / Seoul in fiamme\n",
      "24위 /Waikiki Sunset / ￦olfish / Waikiki Sunset\n",
      "25위 /평화 / Bet Max(베트맥스) / 평화\n",
      "26위 /NEW WAVE / 카르타(CarTa) / NEW WAVE\n",
      "27위 /Beloved / 장예찬(Joy Fact) / Beloved\n",
      "28위 /우리 같이 걷던 거리 / 박승곤 / 우리 같이 걷던 거리\n",
      "29위 /테스토스테론 (feat. Cubana Hembo) / 차이프(CHAIF) / 테스토스테론\n",
      "30위 /멍 (Feat. Skinny Brown, Loopy) / Hy0tk (조형탁) / 멍\n",
      "31위 /괜찮아 / 젠토 (Gento) / 괜찮아\n",
      "32위 /TEXTURE (feat. 오왼 (Owen)) / Kiik / ROLLYBOI\n",
      "33위 /Too Late (feat. 7AE) / 신기원 (ShinGiWon) / Too Late (feat. 7AE)\n",
      "34위 /MAGNOLIA. / 신진 / LAST SUMMER\n",
      "35위 /시간 지난 후에도 (feat. 예령 (YELL), Nasty) / ANTI MIZMO (안티 미즈모) / 시간 지난 후에도\n",
      "36위 /MEDITATE / Chillin Lofi / MEDITATE\n",
      "37위 /GodFather(feat.구현하다) / 구빈 (koobin) / MAD COAST\n",
      "38위 /내가 사라졌으면 좋겠어 / Versechainn / 내가 사라졌으면 좋겠어\n",
      "39위 /OMW (Feat. Northfacegawd) (Explicit Ver.) / 아우릴고트 (OUREALGOAT) / 2.7 Seoul\n",
      "40위 /Forever / 김태균 (TAKEWON) / New Shit\n",
      "41위 /우린어디로 / Austn (오스틴) / Dilemma\n",
      "42위 /YCPLAYER / Kyle Lo (카일로) / YCPLAYER\n",
      "43위 /빈집털이 (Feat.hangirin) / LEON (딥상어) / 빈집털이\n",
      "44위 /PLANS / 처리 (Churry) / PLANS\n",
      "45위 /Laid Back / Dok2 / Laid Back :) lofi hiphop mix\n",
      "46위 /오늘도 걷는다 / 매드칙스 (Mad chicks) / 오늘도 걷는다\n",
      "47위 /희망찬 출발 (Hopeful start) / 공서영 / 희망찬 출발 (Hopeful start)\n",
      "48위 /RETURN (Prod. 민서씨) / 브리엘 (Briel) / RETURN\n",
      "49위 /기억해 / Binzbeatz / 기억해\n",
      "50위 /I'm Better / DISRAIN / I'm Better\n"
     ]
    }
   ],
   "source": [
    "#멜론인기차트\n",
    "select = input(\"장르 입력하세요:\")\n",
    "\n",
    "if select == \"발라드\":\n",
    "    melon_url = 'https://www.melon.com/genre/song_list.htm?gnrCode=GN0100'\n",
    "    print(\"발라드 인기순위\")\n",
    "elif select == \"댄스\":\n",
    "    melon_url = 'https://www.melon.com/genre/song_list.htm?gnrCode=GN0200'\n",
    "    print(\"댄스 인기순위\")\n",
    "elif select == \"랩\" or \"힙합\" or \"랩/힙합\":\n",
    "    melon_url = 'https://www.melon.com/genre/song_list.htm?gnrCode=GN0300'\n",
    "    print(\"랩/힙합 인기순위\")\n",
    "elif select == \"알앤비\" or \"R&B\":\n",
    "    melon_url = 'https://www.melon.com/genre/song_list.htm?gnrCode=GN0400'\n",
    "    print(\"R&B 인기순위\")\n",
    "else: #다하기엔 너무 많아요\n",
    "    print(\"다시 입력\")\n",
    "\n",
    "header = {'User-Agent':'Mozilla/5.0 (Macintosh; Intel Mac OS X 10_15_7) AppleWebKit/537.36 (KHTML, like Gecko) Chrome/108.0.0.0 Safari/537.36'}\n",
    "#melon_url = 'https://www.melon.com/genre/song_list.htm?gnrCode=GN0100'\n",
    "melon_raw = requests.get(melon_url, headers = header)\n",
    "melon_bs = bs(melon_raw.text, \"lxml\")\n",
    "\n",
    "song_name = melon_bs.select(\"div#songList > form#frm > div.service_list_song.d_song_list > table > tbody > tr > td > div.wrap > div.wrap_song_info > div.ellipsis.rank01 > span > a\")\n",
    "artist_name = melon_bs.select(\"div#songList > form#frm > div.service_list_song.d_song_list > table > tbody > tr > td > div.wrap > div.wrap_song_info > div.ellipsis.rank02 > span > a\")\n",
    "album_name = melon_bs.select(\"div#songList > form#frm > div.service_list_song.d_song_list > table > tbody > tr > td > div.wrap > div.wrap_song_info > div.ellipsis.rank03 > a\")\n",
    "\n",
    "album_name[0].text\n",
    "\n",
    "for i in range(len(song_name)):\n",
    "    song_name[i] = song_name[i].text\n",
    "\n",
    "for i in range (len(artist_name)):\n",
    "    artist_name[i] = artist_name[i].text\n",
    "    \n",
    "for i in range(len(album_name)):\n",
    "    album_name[i] = album_name[i].text\n",
    "\n",
    "for i in range(len(album_name)):\n",
    "    print(f'{i+1}위 /{song_name[i]} / {artist_name[i]} / {album_name[i]}')"
   ]
  },
  {
   "cell_type": "code",
   "execution_count": null,
   "metadata": {},
   "outputs": [],
   "source": []
  }
 ],
 "metadata": {
  "kernelspec": {
   "display_name": "webcrawling",
   "language": "python",
   "name": "webcrawling"
  },
  "language_info": {
   "codemirror_mode": {
    "name": "ipython",
    "version": 3
   },
   "file_extension": ".py",
   "mimetype": "text/x-python",
   "name": "python",
   "nbconvert_exporter": "python",
   "pygments_lexer": "ipython3",
   "version": "3.9.6"
  },
  "orig_nbformat": 4,
  "vscode": {
   "interpreter": {
    "hash": "80e2b5a791f6c742fb9a24c2d28a90fc9f079331256e8fab8f76c42efbbc29e4"
   }
  }
 },
 "nbformat": 4,
 "nbformat_minor": 2
}
