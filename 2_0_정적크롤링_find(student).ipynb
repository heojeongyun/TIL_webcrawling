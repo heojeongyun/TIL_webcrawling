{
 "cells": [
  {
   "cell_type": "markdown",
   "id": "787434b0-1096-47ce-9c3b-3205c7418108",
   "metadata": {},
   "source": [
    "# BeautifulSoup\n",
    "- HTML 문서에서 원하는 부분출 추출해내는 라이브러리\n",
    "- 'requests'는 HTML을 텍스트 형태로 출력할 뿐이지 실제 HTML 태그를 다루지는 않는다.\n",
    "- BeautifulSoup 라이브러리는 위의 텍스트 결과를 실제 HTML 코드로 변환해준다. "
   ]
  },
  {
   "cell_type": "markdown",
   "id": "2625092e",
   "metadata": {},
   "source": []
  },
  {
   "cell_type": "markdown",
   "id": "140c1e4a-fc34-454b-881b-732f6926acf4",
   "metadata": {},
   "source": [
    "## BeautifulSoup\n",
    "- BeautifulSoup()\n",
    "    - 문자열 HTML 코드를 실제 HTML 코드로 변환해주는 함수\n",
    "\n",
    "    ```python\n",
    "    BeautifulSoup(문자열, 'html.parser')\n",
    "    # 문자열을 HTML 코드로 해석해서 읽어라\n",
    "    ```\n",
    "\n",
    "- find_all()\n",
    "    - HTML 코드에서 우리가 원하는 부분을 모두 가져오는 함수\n",
    "    - 원하는 부분을 지정할 때 사용하는 것은 태그와  Selector\n",
    "    - 해당 태그의 모든 HTML 코드를 리스트 형태로 반환\n",
    "\n",
    "    ```python\n",
    "    # <div id=\"example1\">\n",
    "    실제HTML코드.find_all(\"div\") # 태그 이름\n",
    "    실제HTML코드.find_all(id=\"example1\") # 선택자 정보\n",
    "\n",
    "    # <div id=\"example1\">, <span class=\"example2\">\n",
    "    실제HTML코드.find_all([\"div\", \"span\"]) # 태그 이름\n",
    "    실제HTML코드.find_all(attrs = {\"id\":\"example1\", \"class\":\"example2\"}) # 선택자 정보\n",
    "    ```\n",
    "\n",
    "\n",
    "\n",
    "- find()\n",
    "    - 하나의 부분만 가져오는 함수\n",
    "\n",
    "    ```python\n",
    "    # <div id=\"example1\">\n",
    "    실제HTML코드.find(\"div\") # 태그 이름\n",
    "    실제HTML코드.find(id=\"example1\") # 선택자 정보\n",
    "    실제HTML코드.find(attrs = {\"id\":\"example1\"}) # 선택자 정보\n",
    "    실제HTML코드.find(\"div\", {\"id\":\"example1\"}) # 태그 이름 + 선택자 정보\n",
    "    ```"
   ]
  },
  {
   "cell_type": "markdown",
   "id": "b4fb138f-c40b-4a43-a981-9dbcd5eaadb2",
   "metadata": {},
   "source": [
    "# 함수 find() vs find_all()\n",
    "- 두 함수의 차이점을 이해하면 효율적으로 크롤링을 할수 있다. \n",
    "- 로또 당첨 번호를 조회해 보자\n",
    "- [당첨번호 확인](https://dhlottery.co.kr/gameResult.do?method=byWin)"
   ]
  },
  {
   "cell_type": "code",
   "execution_count": 18,
   "id": "4a65a589",
   "metadata": {},
   "outputs": [
    {
     "name": "stdout",
     "output_type": "stream",
     "text": [
      "12\n",
      "17\n",
      "20\n",
      "26\n",
      "28\n",
      "36\n",
      "4\n"
     ]
    }
   ],
   "source": [
    "#command shift c\n",
    "#내가 푼 방법\n",
    "from urllib.request import urlopen\n",
    "import requests\n",
    "from bs4 import BeautifulSoup as bs\n",
    "\n",
    "html = urlopen('https://dhlottery.co.kr/gameResult.do?method=byWin')\n",
    "lotto_bs = bs(html, \"html.parser\")\n",
    "\n",
    "\n",
    "result_win = lotto_bs.find(\"div\", class_=\"num win\")\n",
    "\n",
    "find_all_span = result_win.find_all(\"span\")\n",
    "find_all_span\n",
    "\n",
    "for item in find_all_span:\n",
    "    print(item.text)\n",
    "\n",
    "result_bonus = lotto_bs.find(\"div\", class_=\"num bonus\")\n",
    "result_bonus_num = result_bonus.find_all(\"span\")[0].text\n",
    "print(result_bonus_num)\n"
   ]
  },
  {
   "cell_type": "code",
   "execution_count": 16,
   "id": "ec0e4acb",
   "metadata": {},
   "outputs": [
    {
     "name": "stdout",
     "output_type": "stream",
     "text": [
      "로또 당첨번호\n",
      "12\n",
      "17\n",
      "20\n",
      "26\n",
      "28\n",
      "36\n",
      "보너스 번호\n",
      "4\n"
     ]
    }
   ],
   "source": [
    "#강사님이 풀어주신 방법\n",
    "url = 'https://dhlottery.co.kr/gameResult.do?method=byWin'\n",
    "lotto_raw = requests.get(url)\n",
    "\n",
    "lotto_bs = bs(lotto_raw.text, \"html.parser\")\n",
    "\n",
    "result = lotto_bs.find(\"div\",{\"class\":\"nums\"})\n",
    "\n",
    "result_win = result.find(\"div\", {\"class\":\"num win\"})\n",
    "print(\"로또 당첨번호\")\n",
    "for i in result_win.find_all(\"span\"):\n",
    "    print(i.text)\n",
    "\n",
    "print(\"보너스 번호\")\n",
    "result_bonus = result.find(\"div\", {\"class\":\"num bonus\"})\n",
    "result_bonus_num = result_bonus.find_all(\"span\")[0].text\n",
    "print(result_bonus_num)"
   ]
  },
  {
   "cell_type": "markdown",
   "id": "94285171-ea20-435c-9631-b121a63f86d0",
   "metadata": {},
   "source": [
    "# URL 패턴\n",
    "- https://search.hankyung.com/apps.frm/search.news?query=%EC%BD%94%EB%A1%9C%EB%82%98&page=1\n",
    "- url 패턴 : query=\"검색값\"&page=\"페이지값\""
   ]
  },
  {
   "cell_type": "code",
   "execution_count": 19,
   "id": "72d0a6db",
   "metadata": {},
   "outputs": [],
   "source": [
    "#검색어를 입력받고 한경 닷컴에서 검색된 결과중 뉴스의 첫번째 페이지 제목만 출력"
   ]
  },
  {
   "cell_type": "code",
   "execution_count": 37,
   "id": "0f1a70db",
   "metadata": {},
   "outputs": [
    {
     "name": "stdout",
     "output_type": "stream",
     "text": [
      "\n",
      "\n",
      "10월 경상수지 8.8억달러 '힘겨운 흑자'...\"당분간 변동성 커\"\n",
      "\n",
      "\n",
      "\n",
      "\"내년부터 콘돔 공짜\"…프랑스 대통령 '깜짝 발언' 왜?\n",
      "\n",
      "#프랑스\n",
      "#마크롱\n",
      "#콘돔\n",
      "\n",
      "\n",
      "中언론인 \"전국 신규감염 1.6만명?…베이징만 2만명 넘을 것\"\n",
      "\n",
      "\n",
      "\n",
      "지리산이 고품질 보장…대한민국 대표 '산청곶감' 초매식\n",
      "\n",
      "\n",
      "\n",
      "\"중국 Z세대, 방역 완화에 화장품 '보복 소비' 늘 것\"\n",
      "\n",
      "\n",
      "\n",
      "\"감염자 폭증 부담\" vs \"성장 회복\"…중국 '위드 코로나' 엇갈린 시선\n",
      "\n",
      "#글로벌마켓\n",
      "#마켓\n",
      "#중국\n",
      "#코로나\n",
      "#위드 코로나\n",
      "#신규 감염자\n",
      "#감염자 급증\n",
      "#제로 코로나\n",
      "#JP모간\n",
      "\n",
      "\n",
      "중국 도매물가 두달 연속 마이너스…깊어진 불황\n",
      "\n",
      "#글로벌마켓\n",
      "#마켓\n",
      "#CPI\n",
      "#PPI\n",
      "#자동차\n",
      "#중국\n",
      "#도매물가\n",
      "#마이너스\n",
      "#내년 경제정책\n",
      "#코로나 사태\n",
      "\n",
      "\n",
      "작년 운수업 매출액 28%↑…40년만에 최대폭 증가\n",
      "\n",
      "\n",
      "\n",
      "코로나 사망자 중 60세 이상이 96%…집중접종기간 31일까지 연장\n",
      "\n",
      "\n",
      "\n",
      "방역 수칙에 마스크 해제? 유지?…이달 중 확정\n",
      "\n",
      "#마스크\n"
     ]
    }
   ],
   "source": [
    "from urllib import parse\n",
    "\n",
    "search = input(\"검색어 입력하세요\")\n",
    "url1 = 'https://search.hankyung.com/apps.frm/search.news?query='\n",
    "url2 = '&page=1'\n",
    "\n",
    "newUrl = url1+parse.quote_plus(search)+url2\n",
    "\n",
    "hk_raw = requests.get(newUrl)\n",
    "\n",
    "hk_bs = bs(hk_raw.text, \"html.parser\")\n",
    "\n",
    "\n",
    "hk_soup = hk_bs.select(\"div.section.hk_news > div.section_cont > ul.article\")\n",
    "for item in hk_soup[0].find_all(\"a\"):\n",
    "    print(item.text)"
   ]
  },
  {
   "cell_type": "code",
   "execution_count": 99,
   "id": "60d21edc",
   "metadata": {},
   "outputs": [
    {
     "name": "stdout",
     "output_type": "stream",
     "text": [
      "카타르 월드컵 8강 브라질 크로아티아 중계방송 MBC SBS KBS... \n",
      "2022 카타르월드컵 8강 모로코 대 포르투갈 분석 4강 진출팀... \n",
      "사막 월드컵과 제로에너지빌딩\n",
      "모로코 스페인 중계 카타르월드컵 스페인 모로코 하이라이트... \n",
      "카타르월드컵⚽️ 조별매치 3경기 직관 후기\n",
      "2022 카타르 월드컵 크로아티아대 브라질 예상 (크로아티아... \n",
      "2022 카타르 월드컵 크로아티아대 브라질 경기 분석... \n",
      "2022 카타르월드컵 16강 결과 및 8강 대진표 승리예상\n",
      "카타르 월드컵 8강 크로아티아 브라질 분석 전적 피파랭킹... \n",
      "카타르월드컵, 8강 진출팀 최종 확정! 포르투갈과 모로코 경기... \n",
      "2022 카타르 월드컵 8강 대진표 일정 결승전 도!\n",
      "크로아티아 브라질 분석 승부예측 카타르 월드컵 8강 MBC SBS... \n",
      "축알못의 2022 월드컵 한국팀 총평: C\n",
      "2022 카타르 월드컵 8강 일정, 대진표, 진출팀 (ft. 벤투)\n",
      "2022 카타르월드컵 8강 진출국가 대진표 4강 진출팀 예상\n",
      "월드컵 공인구 언제부터 썼을까?? 월드컵 공인구의 역사 - 2\n",
      "월드컵 축구대표팀 입국 현장\n",
      "[카타르 월드컵] 모로코 8강진출, 관전 포인트 3가지\n",
      "2022 카타르 월드컵은 왜 감동적이었을까?⚽️\n",
      "2022 카타르 월드컵 크로아티아 대 브라질 분석 경기일정... \n",
      "브라질 상대로 카타르 월드컵 16강전 친선경기외 첫 승리로 8강... \n",
      "[2022 월드컵] 대한민국-브라질 16강전 프리뷰: 세트피스를... \n",
      "2022 카타르 월드컵 16강전 vs 브라질 (12.05)\n",
      "2026 월드컵은 밴쿠버, 토론토에서\n",
      "대한민국 카타르 월드컵, 손흥민과 황희찬 합작 역전골 16강... \n",
      "대한민국 : 브라질 월드컵 16강전 축구 경기결과!\n",
      "#다시 2002년 같았던, 카타르월드컵\n",
      "2022 카타르월드컵 8강 크로아티아 대 브라질 분석 피파랭킹\n",
      "2022 카타르 월드컵 네덜란드대 아르헨티나 예상 (네덜란드... \n",
      "내 생애 첫 FIFA 월드컵과 '삼바축구' 브라질 대표팀 이야기\n"
     ]
    }
   ],
   "source": [
    "#검색어 입력받고 네이버 블로그에서 검색된 결과중 첫번째 페이지의 제목만 출력\n",
    "query = input(\"검색어 입력:\")\n",
    "naver_url = f'https://search.naver.com/search.naver?query={query}&nso=&where=blog&sm=tab_opt'\n",
    "naver_raw = requests.get(naver_url)\n",
    "naver_bs = bs(naver_raw.text, \"html.parser\")\n",
    "\n",
    "#for item in result_naver[0].find_all(\"a\"):\n",
    " #   print(item.text)\n",
    "\n",
    "#naver_bs.find_all(\"div\", {\"class\":\"total_area\"})[0].find(\"a\", {\"class\":\"api_txt_lines total_tit\"}).text\n",
    "for i in naver_bs.find_all(\"div\", {\"class\":\"total_area\"}):\n",
    "    print(i.find(\"a\", {\"class\":\"api_txt_lines total_tit\"}).text)\n",
    "\n",
    "#태그 구별 잘 해야 됨\n",
    "\n",
    "\n",
    "#naver_soup = naver_bs.select(\"ul.lst_total > li.bx > div.total_wrap.api_ani_send > div.total_area > div.total_info\")\n",
    "#naver_soup.find(\"a\")\n",
    "#for item in naver_soup:\n",
    "#    print(item.text)"
   ]
  },
  {
   "cell_type": "markdown",
   "id": "ff749162",
   "metadata": {},
   "source": [
    "- [참고: URL 인코딩/디코딩 (URL Encoding/Decoding)](https://it-eldorado.tistory.com/143)  \n",
    "<img src=\"https://blog.kakaocdn.net/dn/caNQvW/btq4JfrNJfP/zdIHGBlZFZr26k2XeHJhbK/img.png\">"
   ]
  }
 ],
 "metadata": {
  "kernelspec": {
   "display_name": "webcrawling",
   "language": "python",
   "name": "python3"
  },
  "language_info": {
   "codemirror_mode": {
    "name": "ipython",
    "version": 3
   },
   "file_extension": ".py",
   "mimetype": "text/x-python",
   "name": "python",
   "nbconvert_exporter": "python",
   "pygments_lexer": "ipython3",
   "version": "3.9.6 (default, Jun 13 2022, 18:55:57) \n[Clang 14.0.0 (clang-1400.0.17.3.3)]"
  },
  "vscode": {
   "interpreter": {
    "hash": "80e2b5a791f6c742fb9a24c2d28a90fc9f079331256e8fab8f76c42efbbc29e4"
   }
  }
 },
 "nbformat": 4,
 "nbformat_minor": 5
}
