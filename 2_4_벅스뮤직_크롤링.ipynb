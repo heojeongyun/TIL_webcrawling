{
 "cells": [
  {
   "cell_type": "code",
   "execution_count": 93,
   "metadata": {},
   "outputs": [],
   "source": [
    "#일자별 차트 크롤링\n",
    "#1등 가져오기\n",
    "#전체순위가져오기\n",
    "\n",
    "#순위에 따라서 점수 부여\n",
    "#1등 100점, 100등 1점\n",
    "#특정 기간내 차트 진입 점수 계산 ex)15일간 차트분석\n",
    "#누적된 점수별 아티스트 계산 상위 10명 히스토그램\n",
    "\n",
    "\n",
    "from urllib.request import urlopen\n",
    "import requests\n",
    "from bs4 import BeautifulSoup as bs\n",
    "import matplotlib.pyplot as plt"
   ]
  },
  {
   "cell_type": "code",
   "execution_count": 86,
   "metadata": {},
   "outputs": [
    {
     "data": {
      "text/plain": [
       "'https://music.bugs.co.kr/chart/track/day/total?chartdate=20221204'"
      ]
     },
     "execution_count": 86,
     "metadata": {},
     "output_type": "execute_result"
    }
   ],
   "source": [
    "url = \"https://music.bugs.co.kr/chart/track/day/total?chartdate=\" \n",
    "bugs_url = url + str(20221204)\n",
    "\n",
    "bugs_url"
   ]
  },
  {
   "cell_type": "code",
   "execution_count": 94,
   "metadata": {},
   "outputs": [
    {
     "data": {
      "text/plain": [
       "[]"
      ]
     },
     "execution_count": 94,
     "metadata": {},
     "output_type": "execute_result"
    }
   ],
   "source": [
    "url = \"https://music.bugs.co.kr/chart/track/day/total?chartdate=\" \n",
    "bugs_url = url + str(20221204)\n",
    "\n",
    "bugs_raw = requests.get(bugs_url)\n",
    "bugs_bs = bs(bugs_raw.text, \"lxml\")\n",
    "\n",
    "\n",
    "td_soup = bugs_bs.select(\"div#wrap > div#hyrendContentBody > article#container.mnWhatshot.mnChart.pgChartTrack > section.sectionPadding > div.innerContainer > div#CHARTrealtime > table.list.trackList.byChart > tbody > tr\")\n",
    "\n",
    "\n",
    "\n",
    "td_soup"
   ]
  },
  {
   "cell_type": "code",
   "execution_count": null,
   "metadata": {},
   "outputs": [],
   "source": [
    "bugs = []\n",
    "for i in td_soup:\n",
    "    song_name = i.find(\"th\", {\"scope\":\"row\"}).text.replace(\"\\n\", \"\")\n",
    "    song_artist = i.find(\"td\", {\"class\":\"left\"}).text.replace(\"\\n\", \"\")\n",
    "    win = i.find(\"strong\").text\n",
    "    bugs.append({\"순위\":win, \"제목\":song_name, \"가수\":song_artist})\n",
    "\n",
    "bugs = pd.DataFrame(bugs)\n",
    "\n",
    "\n",
    "#순위에 따라 점수 부여\n",
    "for i in bugs:\n",
    "    bugs[\"점수\"]= 101-bugs[\"순위\"].astype(int)"
   ]
  },
  {
   "cell_type": "code",
   "execution_count": 78,
   "metadata": {},
   "outputs": [
    {
     "name": "stdout",
     "output_type": "stream",
     "text": [
      "Collecting tqdm\n",
      "  Downloading tqdm-4.64.1-py2.py3-none-any.whl (78 kB)\n",
      "\u001b[K     |████████████████████████████████| 78 kB 2.5 MB/s eta 0:00:01\n",
      "\u001b[?25hInstalling collected packages: tqdm\n",
      "Successfully installed tqdm-4.64.1\n",
      "\u001b[33mWARNING: You are using pip version 21.2.4; however, version 22.3.1 is available.\n",
      "You should consider upgrading via the '/Users/heojeongyun/Desktop/lab/webcrawling/bin/python -m pip install --upgrade pip' command.\u001b[0m\n"
     ]
    }
   ],
   "source": [
    "!pip install tqdm"
   ]
  },
  {
   "cell_type": "code",
   "execution_count": 83,
   "metadata": {},
   "outputs": [
    {
     "name": "stderr",
     "output_type": "stream",
     "text": [
      "100%|██████████| 6/6 [00:02<00:00,  2.20it/s]"
     ]
    },
    {
     "name": "stdout",
     "output_type": "stream",
     "text": [
      "<class 'pandas.core.frame.DataFrame'>\n",
      "RangeIndex: 0 entries\n",
      "Empty DataFrame\n"
     ]
    },
    {
     "name": "stderr",
     "output_type": "stream",
     "text": [
      "\n"
     ]
    }
   ],
   "source": [
    "from tqdm import tqdm\n",
    "import pandas as pd\n",
    "sdt=input(\"시작일 입력:\")\n",
    "edt=input(\"종료일 입력:\")\n",
    "\n",
    "dates=pd.date_range(sdt, edt)\n",
    "dates=[i.strftime(\"%Y%m%d\") for i in dates]\n",
    "#print(dates)\n",
    "\n",
    "for date in tqdm(dates):\n",
    "    url = \"https://music.bugs.co.kr/chart/track/day/total?chartdate=\" + str(date)\n",
    "    bugs_raw = requests.get(url)\n",
    "    bugs_bs = bs(bugs_raw.text, \"html.parser\")\n",
    "    bugs_day = []\n",
    "    td_soup = bugs_bs.select(\"div#wrap > div#hyrendContentBody > article#container.mnWhatshot.mnChart.pgChartTrack > section.sectionPadding > div.innerContainer > div#CHARTrealtime > table.list.trackList.byChart > tbody > tr\")\n",
    "\n",
    "    scr = 101\n",
    "    for i in td_soup:\n",
    "        win = i.find(\"strong\").text\n",
    "        song_name = i.find(\"th\", {\"scope\":\"row\"}).text.replace(\"\\n\", \"\")\n",
    "        song_artist = i.find(\"td\", {\"class\":\"left\"}).text.replace(\"\\n\", \"\")\n",
    "        scr -=1\n",
    "        bugs_day.append({\"순위\":win, \"제목\":song_name, \"가수\":song_artist, \"점수\":scr})\n",
    "\n",
    "    bugs_day = pd.DataFrame(bugs_day)\n",
    "    bugs = pd.concat([bugs, bugs_day])\n",
    "\n",
    "bugs.reset_index(drop=True, inplace=True)\n",
    "bugs.info()"
   ]
  },
  {
   "cell_type": "code",
   "execution_count": 85,
   "metadata": {},
   "outputs": [
    {
     "data": {
      "text/html": [
       "<div>\n",
       "<style scoped>\n",
       "    .dataframe tbody tr th:only-of-type {\n",
       "        vertical-align: middle;\n",
       "    }\n",
       "\n",
       "    .dataframe tbody tr th {\n",
       "        vertical-align: top;\n",
       "    }\n",
       "\n",
       "    .dataframe thead th {\n",
       "        text-align: right;\n",
       "    }\n",
       "</style>\n",
       "<table border=\"1\" class=\"dataframe\">\n",
       "  <thead>\n",
       "    <tr style=\"text-align: right;\">\n",
       "      <th></th>\n",
       "    </tr>\n",
       "  </thead>\n",
       "  <tbody>\n",
       "  </tbody>\n",
       "</table>\n",
       "</div>"
      ],
      "text/plain": [
       "Empty DataFrame\n",
       "Columns: []\n",
       "Index: []"
      ]
     },
     "execution_count": 85,
     "metadata": {},
     "output_type": "execute_result"
    }
   ],
   "source": [
    "url = \"https://music.bugs.co.kr/chart/track/day/total?chartdate=\" + str(date)\n",
    "bugs_raw = requests.get(url)\n",
    "bugs_bs = bs(bugs_raw.text, \"html.parser\")\n",
    "bugs_day = []\n",
    "td_soup = bugs_bs.select(\"div#wrap > div#hyrendContentBody > article#container.mnWhatshot.mnChart.pgChartTrack > section.sectionPadding > div.innerContainer > div#CHARTrealtime > table.list.trackList.byChart > tbody > tr\")\n",
    "\n",
    "scr = 101\n",
    "for i in td_soup:\n",
    "    win = i.find(\"strong\").text\n",
    "    song_name = i.find(\"th\", {\"scope\":\"row\"}).text.replace(\"\\n\", \"\")\n",
    "    song_artist = i.find(\"td\", {\"class\":\"left\"}).text.replace(\"\\n\", \"\")\n",
    "    scr -=1\n",
    "    bugs_day.append({\"순위\":win, \"제목\":song_name, \"가수\":song_artist, \"점수\":scr})\n",
    "\n",
    "bugs_day = pd.DataFrame(bugs_day)\n",
    "bugs_day"
   ]
  },
  {
   "cell_type": "code",
   "execution_count": null,
   "metadata": {},
   "outputs": [],
   "source": []
  }
 ],
 "metadata": {
  "kernelspec": {
   "display_name": "Python 3",
   "language": "python",
   "name": "python3"
  },
  "language_info": {
   "codemirror_mode": {
    "name": "ipython",
    "version": 3
   },
   "file_extension": ".py",
   "mimetype": "text/x-python",
   "name": "python",
   "nbconvert_exporter": "python",
   "pygments_lexer": "ipython3",
   "version": "3.9.6 (default, Jun 13 2022, 18:55:57) \n[Clang 14.0.0 (clang-1400.0.17.3.3)]"
  },
  "orig_nbformat": 4,
  "vscode": {
   "interpreter": {
    "hash": "31f2aee4e71d21fbe5cf8b01ff0e069b9275f58929596ceb00d14d90e3e16cd6"
   }
  }
 },
 "nbformat": 4,
 "nbformat_minor": 2
}
